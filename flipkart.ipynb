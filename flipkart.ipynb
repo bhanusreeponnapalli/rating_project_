{
 "cells": [
  {
   "cell_type": "code",
   "execution_count": 1,
   "id": "ebf2c397",
   "metadata": {},
   "outputs": [],
   "source": [
    "# Importing Libraries\n",
    "import selenium\n",
    "import pandas as pd\n",
    "import time\n",
    "from bs4 import BeautifulSoup\n",
    "\n",
    "# Importing selenium webdriver \n",
    "from selenium import webdriver\n",
    "from selenium.webdriver.firefox.options import Options\n",
    "\n",
    "# Importing required Exceptions which needs to handled\n",
    "from selenium.common.exceptions import StaleElementReferenceException, NoSuchElementException\n",
    "\n",
    "#Importing requests\n",
    "import requests\n",
    "\n",
    "# importing regex\n",
    "import re\n",
    "\n",
    "import warnings\n",
    "warnings.filterwarnings('ignore')"
   ]
  },
  {
   "cell_type": "code",
   "execution_count": 25,
   "id": "41852238",
   "metadata": {},
   "outputs": [],
   "source": [
    "options = Options()\n",
    "options.binary_location = r'C:\\Program Files\\Mozilla Firefox\\firefox.exe'\n",
    "driver = webdriver.Firefox(executable_path=r'C:\\Users\\harsh\\Desktop\\geckodriver.exe', options=options)"
   ]
  },
  {
   "cell_type": "code",
   "execution_count": 26,
   "id": "42375d94",
   "metadata": {},
   "outputs": [],
   "source": [
    "url = \"https://www.flipkart.com/\"\n",
    "driver.get(url)\n",
    "driver.maximize_window()\n",
    "time.sleep(1)"
   ]
  },
  {
   "cell_type": "code",
   "execution_count": 27,
   "id": "fb18bbf2",
   "metadata": {},
   "outputs": [],
   "source": [
    "#Closing popup\n",
    "pop = driver.find_element_by_xpath('//div[@class=\"_2QfC02\"]/button')\n",
    "pop.click()"
   ]
  },
  {
   "cell_type": "code",
   "execution_count": 28,
   "id": "5f9d755d",
   "metadata": {},
   "outputs": [
    {
     "data": {
      "text/plain": [
       "1410"
      ]
     },
     "execution_count": 28,
     "metadata": {},
     "output_type": "execute_result"
    }
   ],
   "source": [
    "#user input\n",
    "user_inp = ['Laptop','smartphone','Headphones','smart watches','Printers', 'Monitors', 'Home theater',\n",
    "            'Router']\n",
    "#product_url\n",
    "product_urls = []\n",
    "start = 0\n",
    "end =15\n",
    "count =0\n",
    "for i in user_inp:\n",
    "    search_bar = driver.find_element_by_xpath('//input[@class=\"_3704LK\"]')    # Locating searc_bar by id\n",
    "    search_bar.clear()                                               # clearing search_bar\n",
    "    search_bar.send_keys(i)                                   # sending user input to search bar\n",
    "    search_button = driver.find_element_by_xpath('//button[@class=\"L0Z3Pu\"]')       # Locating search_button by xpath\n",
    "    search_button.click()\n",
    "    time.sleep(2.5)\n",
    "    \n",
    "    for page in range(start,end):\n",
    "        url = driver.find_elements_by_xpath('//a[@class=\"_1fQZEK\"]')\n",
    "        for j in url:\n",
    "            product_urls.append(j.get_attribute(\"href\"))\n",
    "        time.sleep(1)\n",
    "        nxt_button =driver.find_element_by_xpath('//div[@class=\"_2MImiq\"]/nav/a[11]')\n",
    "        nxt_button.click()\n",
    "        time.sleep(1)\n",
    "    \n",
    "len(product_urls)    \n",
    "    "
   ]
  },
  {
   "cell_type": "code",
   "execution_count": 29,
   "id": "0dae29f0",
   "metadata": {},
   "outputs": [],
   "source": [
    "Rating = []\n",
    "Reviews = []"
   ]
  },
  {
   "cell_type": "code",
   "execution_count": 30,
   "id": "351fe7e8",
   "metadata": {},
   "outputs": [
    {
     "name": "stdout",
     "output_type": "stream",
     "text": [
      "1410 1410\n"
     ]
    }
   ],
   "source": [
    "for url in product_urls:\n",
    "        driver.get(url)\n",
    "        time.sleep(1)\n",
    "    \n",
    "        # Extracting Rating\n",
    "        try:\n",
    "            rate = driver.find_element_by_xpath('//div[@class=\"_3LWZlK _1BLPMq\"]')  \n",
    "            Rating.append(rate.text)\n",
    "        except NoSuchElementException:\n",
    "            Rating.append('-')    \n",
    "        #time.sleep(1)    \n",
    "    \n",
    "        #Extracting reviews\n",
    "        try:\n",
    "            review = driver.find_element_by_xpath('//p[@class=\"_2-N8zT\"]')\n",
    "            Reviews.append(review.text)\n",
    "        except NoSuchElementException:\n",
    "            Reviews.append('-')\n",
    "    \n",
    "        #time.sleep(1)\n",
    "    \n",
    "print(len(Rating),len(Reviews))  "
   ]
  },
  {
   "cell_type": "code",
   "execution_count": 31,
   "id": "296892d1",
   "metadata": {},
   "outputs": [
    {
     "data": {
      "text/html": [
       "<div>\n",
       "<style scoped>\n",
       "    .dataframe tbody tr th:only-of-type {\n",
       "        vertical-align: middle;\n",
       "    }\n",
       "\n",
       "    .dataframe tbody tr th {\n",
       "        vertical-align: top;\n",
       "    }\n",
       "\n",
       "    .dataframe thead th {\n",
       "        text-align: right;\n",
       "    }\n",
       "</style>\n",
       "<table border=\"1\" class=\"dataframe\">\n",
       "  <thead>\n",
       "    <tr style=\"text-align: right;\">\n",
       "      <th></th>\n",
       "      <th>Rating</th>\n",
       "      <th>Reviews</th>\n",
       "    </tr>\n",
       "  </thead>\n",
       "  <tbody>\n",
       "    <tr>\n",
       "      <th>0</th>\n",
       "      <td>5</td>\n",
       "      <td>Superb</td>\n",
       "    </tr>\n",
       "    <tr>\n",
       "      <th>1</th>\n",
       "      <td>5</td>\n",
       "      <td>Best in the market!</td>\n",
       "    </tr>\n",
       "    <tr>\n",
       "      <th>2</th>\n",
       "      <td>5</td>\n",
       "      <td>Great product</td>\n",
       "    </tr>\n",
       "    <tr>\n",
       "      <th>3</th>\n",
       "      <td>5</td>\n",
       "      <td>Excellent</td>\n",
       "    </tr>\n",
       "    <tr>\n",
       "      <th>4</th>\n",
       "      <td>5</td>\n",
       "      <td>Excellent</td>\n",
       "    </tr>\n",
       "    <tr>\n",
       "      <th>...</th>\n",
       "      <td>...</td>\n",
       "      <td>...</td>\n",
       "    </tr>\n",
       "    <tr>\n",
       "      <th>1405</th>\n",
       "      <td>5</td>\n",
       "      <td>Terrific</td>\n",
       "    </tr>\n",
       "    <tr>\n",
       "      <th>1406</th>\n",
       "      <td>-</td>\n",
       "      <td>-</td>\n",
       "    </tr>\n",
       "    <tr>\n",
       "      <th>1407</th>\n",
       "      <td>-</td>\n",
       "      <td>-</td>\n",
       "    </tr>\n",
       "    <tr>\n",
       "      <th>1408</th>\n",
       "      <td>4</td>\n",
       "      <td>Good choice</td>\n",
       "    </tr>\n",
       "    <tr>\n",
       "      <th>1409</th>\n",
       "      <td>5</td>\n",
       "      <td>Did not meet expectations</td>\n",
       "    </tr>\n",
       "  </tbody>\n",
       "</table>\n",
       "<p>1410 rows × 2 columns</p>\n",
       "</div>"
      ],
      "text/plain": [
       "     Rating                    Reviews\n",
       "0         5                     Superb\n",
       "1         5        Best in the market!\n",
       "2         5              Great product\n",
       "3         5                  Excellent\n",
       "4         5                  Excellent\n",
       "...     ...                        ...\n",
       "1405      5                   Terrific\n",
       "1406      -                          -\n",
       "1407      -                          -\n",
       "1408      4                Good choice\n",
       "1409      5  Did not meet expectations\n",
       "\n",
       "[1410 rows x 2 columns]"
      ]
     },
     "execution_count": 31,
     "metadata": {},
     "output_type": "execute_result"
    }
   ],
   "source": [
    "data = pd.DataFrame({'Rating':Rating,'Reviews':Reviews})\n",
    "data"
   ]
  },
  {
   "cell_type": "code",
   "execution_count": 32,
   "id": "ecd7fda4",
   "metadata": {},
   "outputs": [],
   "source": [
    "data.to_csv('flipkart.csv')"
   ]
  },
  {
   "cell_type": "code",
   "execution_count": null,
   "id": "3d7f0da4",
   "metadata": {},
   "outputs": [],
   "source": []
  }
 ],
 "metadata": {
  "kernelspec": {
   "display_name": "Python 3",
   "language": "python",
   "name": "python3"
  },
  "language_info": {
   "codemirror_mode": {
    "name": "ipython",
    "version": 3
   },
   "file_extension": ".py",
   "mimetype": "text/x-python",
   "name": "python",
   "nbconvert_exporter": "python",
   "pygments_lexer": "ipython3",
   "version": "3.8.8"
  }
 },
 "nbformat": 4,
 "nbformat_minor": 5
}
