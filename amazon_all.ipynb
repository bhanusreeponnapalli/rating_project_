{
 "cells": [
  {
   "cell_type": "code",
   "execution_count": 1,
   "id": "b139656f",
   "metadata": {},
   "outputs": [],
   "source": [
    "# Importing Libraries\n",
    "import selenium\n",
    "import pandas as pd\n",
    "import time\n",
    "from bs4 import BeautifulSoup\n",
    "\n",
    "# Importing selenium webdriver \n",
    "from selenium import webdriver\n",
    "from selenium.webdriver.chrome.service import Service\n",
    "\n",
    "# Importing required Exceptions which needs to handled\n",
    "from selenium.common.exceptions import StaleElementReferenceException, NoSuchElementException\n",
    "\n",
    "#Importing requests\n",
    "import requests\n",
    "\n",
    "# importing regex\n",
    "import re\n",
    "\n",
    "import warnings\n",
    "warnings.filterwarnings('ignore')"
   ]
  },
  {
   "cell_type": "code",
   "execution_count": 7,
   "id": "9e82865e",
   "metadata": {},
   "outputs": [],
   "source": [
    "chrome_options = webdriver.ChromeOptions()\n",
    "chrome_options.add_argument('user-data-dir=C:\\\\Perfil')\n",
    "\n",
    "driver_path = r\"C:\\Users\\harsh\\Desktop\\chromedriver.exe\"\n",
    "service = Service(driver_path)\n",
    "driver = webdriver.Chrome(service=service,options=chrome_options)\n",
    "#driver = webdriver.Chrome(r\"C:\\Users\\harsh\\Desktop\\chromedriver.exe\")"
   ]
  },
  {
   "cell_type": "code",
   "execution_count": 8,
   "id": "bdddd82d",
   "metadata": {},
   "outputs": [],
   "source": [
    "# Opening the homepage of Amazon.in\n",
    "url = \"https://www.amazon.in/\"\n",
    "driver.get(url)\n",
    "driver.maximize_window()\n",
    "time.sleep(1)\n"
   ]
  },
  {
   "cell_type": "code",
   "execution_count": 10,
   "id": "bdff422f",
   "metadata": {},
   "outputs": [
    {
     "data": {
      "text/plain": [
       "3087"
      ]
     },
     "execution_count": 10,
     "metadata": {},
     "output_type": "execute_result"
    }
   ],
   "source": [
    "# Asking the user to input the keywords he/she wants to search\n",
    "user_inp = ['Laptop','smartphone','Headphones','smart watches', 'Professional Cameras', 'Printers', 'Monitors', 'Home theater',\n",
    "            'Router']\n",
    "#product_url\n",
    "product_urls = []\n",
    "start = 0\n",
    "end =16\n",
    "count =0\n",
    "for i in user_inp:\n",
    "    search_bar = driver.find_element_by_id(\"twotabsearchtextbox\")    # Locating searc_bar by id\n",
    "    search_bar.clear()                                               # clearing search_bar\n",
    "    search_bar.send_keys(i)                                   # sending user input to search bar\n",
    "    search_button = driver.find_element_by_xpath('//div[@class=\"nav-search-submit nav-sprite\"]/span/input')       # Locating search_button by xpath\n",
    "    search_button.click()\n",
    "    time.sleep(2)\n",
    "    \n",
    "    \n",
    "    for page in range(start,end):\n",
    "        url = driver.find_elements_by_xpath('//a[@class=\"a-link-normal s-underline-text s-underline-link-text s-link-style a-text-normal\"]')\n",
    "        for j in url:\n",
    "            product_urls.append(j.get_attribute(\"href\"))\n",
    "        #time.sleep(3)\n",
    "        nxt_button =driver.find_element_by_xpath('//a[@class=\"s-pagination-item s-pagination-next s-pagination-button s-pagination-separator\"]')\n",
    "        nxt_button.click()\n",
    "        time.sleep(2)\n",
    "    \n",
    "len(product_urls)      "
   ]
  },
  {
   "cell_type": "code",
   "execution_count": 11,
   "id": "91cdfc01",
   "metadata": {},
   "outputs": [],
   "source": [
    "Rating =[]\n",
    "Reviews = []"
   ]
  },
  {
   "cell_type": "code",
   "execution_count": 16,
   "id": "8369126d",
   "metadata": {},
   "outputs": [
    {
     "name": "stdout",
     "output_type": "stream",
     "text": [
      "4277 4277\n"
     ]
    }
   ],
   "source": [
    "for url in product_urls:\n",
    "        driver.get(url)\n",
    "        time.sleep(2)\n",
    "    \n",
    "        # Extracting Rating\n",
    "        try:\n",
    "            rate = driver.find_element_by_xpath('//span[@class=\"a-size-base a-nowrap\"]//span')  \n",
    "            Rating.append(rate.text.split()[0])\n",
    "        except NoSuchElementException:\n",
    "            Rating.append('-')    \n",
    "        #time.sleep(1)    \n",
    "    \n",
    "        #Extracting reviews\n",
    "        try:\n",
    "            review = driver.find_element_by_xpath('//div[@class=\"a-section celwidget\"]/div[2]/a[2]/span')\n",
    "            Reviews.append(review.text)\n",
    "        except NoSuchElementException:\n",
    "            Reviews.append('-')\n",
    "    \n",
    "        #time.sleep(1)\n",
    "    \n",
    "print(len(Rating),len(Reviews))  "
   ]
  },
  {
   "cell_type": "code",
   "execution_count": 17,
   "id": "1823c5ee",
   "metadata": {},
   "outputs": [
    {
     "name": "stdout",
     "output_type": "stream",
     "text": [
      "4277 4277\n"
     ]
    }
   ],
   "source": [
    "print(len(Rating),len(Reviews))"
   ]
  },
  {
   "cell_type": "code",
   "execution_count": 18,
   "id": "f35eb3d4",
   "metadata": {},
   "outputs": [
    {
     "data": {
      "text/html": [
       "<div>\n",
       "<style scoped>\n",
       "    .dataframe tbody tr th:only-of-type {\n",
       "        vertical-align: middle;\n",
       "    }\n",
       "\n",
       "    .dataframe tbody tr th {\n",
       "        vertical-align: top;\n",
       "    }\n",
       "\n",
       "    .dataframe thead th {\n",
       "        text-align: right;\n",
       "    }\n",
       "</style>\n",
       "<table border=\"1\" class=\"dataframe\">\n",
       "  <thead>\n",
       "    <tr style=\"text-align: right;\">\n",
       "      <th></th>\n",
       "      <th>Rating</th>\n",
       "      <th>Reviews</th>\n",
       "    </tr>\n",
       "  </thead>\n",
       "  <tbody>\n",
       "    <tr>\n",
       "      <th>0</th>\n",
       "      <td>3.5</td>\n",
       "      <td>Joke it is.</td>\n",
       "    </tr>\n",
       "    <tr>\n",
       "      <th>1</th>\n",
       "      <td>4.2</td>\n",
       "      <td>HP 14 (2021)</td>\n",
       "    </tr>\n",
       "    <tr>\n",
       "      <th>2</th>\n",
       "      <td>4.1</td>\n",
       "      <td>Very good laptoo at 24k price</td>\n",
       "    </tr>\n",
       "    <tr>\n",
       "      <th>3</th>\n",
       "      <td>3.8</td>\n",
       "      <td>Takes forever to startup, key almost out withi...</td>\n",
       "    </tr>\n",
       "    <tr>\n",
       "      <th>4</th>\n",
       "      <td>3.8</td>\n",
       "      <td>Terrible Product</td>\n",
       "    </tr>\n",
       "    <tr>\n",
       "      <th>...</th>\n",
       "      <td>...</td>\n",
       "      <td>...</td>\n",
       "    </tr>\n",
       "    <tr>\n",
       "      <th>4272</th>\n",
       "      <td>-</td>\n",
       "      <td>-</td>\n",
       "    </tr>\n",
       "    <tr>\n",
       "      <th>4273</th>\n",
       "      <td>-</td>\n",
       "      <td>-</td>\n",
       "    </tr>\n",
       "    <tr>\n",
       "      <th>4274</th>\n",
       "      <td>-</td>\n",
       "      <td>-</td>\n",
       "    </tr>\n",
       "    <tr>\n",
       "      <th>4275</th>\n",
       "      <td>-</td>\n",
       "      <td>-</td>\n",
       "    </tr>\n",
       "    <tr>\n",
       "      <th>4276</th>\n",
       "      <td>-</td>\n",
       "      <td>-</td>\n",
       "    </tr>\n",
       "  </tbody>\n",
       "</table>\n",
       "<p>4277 rows × 2 columns</p>\n",
       "</div>"
      ],
      "text/plain": [
       "     Rating                                            Reviews\n",
       "0       3.5                                        Joke it is.\n",
       "1       4.2                                       HP 14 (2021)\n",
       "2       4.1                      Very good laptoo at 24k price\n",
       "3       3.8  Takes forever to startup, key almost out withi...\n",
       "4       3.8                                   Terrible Product\n",
       "...     ...                                                ...\n",
       "4272      -                                                  -\n",
       "4273      -                                                  -\n",
       "4274      -                                                  -\n",
       "4275      -                                                  -\n",
       "4276      -                                                  -\n",
       "\n",
       "[4277 rows x 2 columns]"
      ]
     },
     "execution_count": 18,
     "metadata": {},
     "output_type": "execute_result"
    }
   ],
   "source": [
    "data = pd.DataFrame({'Rating':Rating,'Reviews':Reviews})\n",
    "data"
   ]
  },
  {
   "cell_type": "code",
   "execution_count": 19,
   "id": "d539c62c",
   "metadata": {},
   "outputs": [],
   "source": [
    "data.to_csv('amazon.csv')"
   ]
  },
  {
   "cell_type": "code",
   "execution_count": null,
   "id": "c3460b80",
   "metadata": {},
   "outputs": [],
   "source": []
  }
 ],
 "metadata": {
  "kernelspec": {
   "display_name": "Python 3",
   "language": "python",
   "name": "python3"
  },
  "language_info": {
   "codemirror_mode": {
    "name": "ipython",
    "version": 3
   },
   "file_extension": ".py",
   "mimetype": "text/x-python",
   "name": "python",
   "nbconvert_exporter": "python",
   "pygments_lexer": "ipython3",
   "version": "3.8.8"
  }
 },
 "nbformat": 4,
 "nbformat_minor": 5
}
